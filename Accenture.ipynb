{
 "cells": [
  {
   "cell_type": "code",
   "execution_count": 2,
   "id": "573de10a",
   "metadata": {},
   "outputs": [],
   "source": [
    "import pandas as pd\n",
    "import seaborn as sns\n",
    "import matplotlib.pyplot as plt\n",
    "%matplotlib inline"
   ]
  },
  {
   "cell_type": "code",
   "execution_count": 3,
   "id": "cd165954",
   "metadata": {},
   "outputs": [],
   "source": [
    "content = pd.read_csv('Content.csv', usecols=[1,2,3,4,5])\n",
    "reaction = pd.read_csv('Reactions.csv', usecols=[1,2,3,4])\n",
    "reaction_types = pd.read_csv('ReactionTypes.csv', usecols=[1,2,3])"
   ]
  },
  {
   "cell_type": "code",
   "execution_count": 4,
   "id": "6555e2a7",
   "metadata": {},
   "outputs": [
    {
     "data": {
      "text/html": [
       "<div>\n",
       "<style scoped>\n",
       "    .dataframe tbody tr th:only-of-type {\n",
       "        vertical-align: middle;\n",
       "    }\n",
       "\n",
       "    .dataframe tbody tr th {\n",
       "        vertical-align: top;\n",
       "    }\n",
       "\n",
       "    .dataframe thead th {\n",
       "        text-align: right;\n",
       "    }\n",
       "</style>\n",
       "<table border=\"1\" class=\"dataframe\">\n",
       "  <thead>\n",
       "    <tr style=\"text-align: right;\">\n",
       "      <th></th>\n",
       "      <th>Content ID</th>\n",
       "      <th>User ID</th>\n",
       "      <th>Type</th>\n",
       "      <th>Category</th>\n",
       "      <th>URL</th>\n",
       "    </tr>\n",
       "  </thead>\n",
       "  <tbody>\n",
       "    <tr>\n",
       "      <th>0</th>\n",
       "      <td>97522e57-d9ab-4bd6-97bf-c24d952602d2</td>\n",
       "      <td>8d3cd87d-8a31-4935-9a4f-b319bfe05f31</td>\n",
       "      <td>photo</td>\n",
       "      <td>Studying</td>\n",
       "      <td>https://socialbuzz.cdn.com/content/storage/975...</td>\n",
       "    </tr>\n",
       "    <tr>\n",
       "      <th>1</th>\n",
       "      <td>9f737e0a-3cdd-4d29-9d24-753f4e3be810</td>\n",
       "      <td>beb1f34e-7870-46d6-9fc7-2e12eb83ce43</td>\n",
       "      <td>photo</td>\n",
       "      <td>healthy eating</td>\n",
       "      <td>https://socialbuzz.cdn.com/content/storage/9f7...</td>\n",
       "    </tr>\n",
       "    <tr>\n",
       "      <th>2</th>\n",
       "      <td>230c4e4d-70c3-461d-b42c-ec09396efb3f</td>\n",
       "      <td>a5c65404-5894-4b87-82f2-d787cbee86b4</td>\n",
       "      <td>photo</td>\n",
       "      <td>healthy eating</td>\n",
       "      <td>https://socialbuzz.cdn.com/content/storage/230...</td>\n",
       "    </tr>\n",
       "    <tr>\n",
       "      <th>3</th>\n",
       "      <td>356fff80-da4d-4785-9f43-bc1261031dc6</td>\n",
       "      <td>9fb4ce88-fac1-406c-8544-1a899cee7aaf</td>\n",
       "      <td>photo</td>\n",
       "      <td>technology</td>\n",
       "      <td>https://socialbuzz.cdn.com/content/storage/356...</td>\n",
       "    </tr>\n",
       "    <tr>\n",
       "      <th>4</th>\n",
       "      <td>01ab84dd-6364-4236-abbb-3f237db77180</td>\n",
       "      <td>e206e31b-5f85-4964-b6ea-d7ee5324def1</td>\n",
       "      <td>video</td>\n",
       "      <td>food</td>\n",
       "      <td>https://socialbuzz.cdn.com/content/storage/01a...</td>\n",
       "    </tr>\n",
       "  </tbody>\n",
       "</table>\n",
       "</div>"
      ],
      "text/plain": [
       "                             Content ID                               User ID  \\\n",
       "0  97522e57-d9ab-4bd6-97bf-c24d952602d2  8d3cd87d-8a31-4935-9a4f-b319bfe05f31   \n",
       "1  9f737e0a-3cdd-4d29-9d24-753f4e3be810  beb1f34e-7870-46d6-9fc7-2e12eb83ce43   \n",
       "2  230c4e4d-70c3-461d-b42c-ec09396efb3f  a5c65404-5894-4b87-82f2-d787cbee86b4   \n",
       "3  356fff80-da4d-4785-9f43-bc1261031dc6  9fb4ce88-fac1-406c-8544-1a899cee7aaf   \n",
       "4  01ab84dd-6364-4236-abbb-3f237db77180  e206e31b-5f85-4964-b6ea-d7ee5324def1   \n",
       "\n",
       "    Type        Category                                                URL  \n",
       "0  photo        Studying  https://socialbuzz.cdn.com/content/storage/975...  \n",
       "1  photo  healthy eating  https://socialbuzz.cdn.com/content/storage/9f7...  \n",
       "2  photo  healthy eating  https://socialbuzz.cdn.com/content/storage/230...  \n",
       "3  photo      technology  https://socialbuzz.cdn.com/content/storage/356...  \n",
       "4  video            food  https://socialbuzz.cdn.com/content/storage/01a...  "
      ]
     },
     "execution_count": 4,
     "metadata": {},
     "output_type": "execute_result"
    }
   ],
   "source": [
    "content.head()"
   ]
  },
  {
   "cell_type": "code",
   "execution_count": 5,
   "id": "6d4bdf0d",
   "metadata": {},
   "outputs": [
    {
     "data": {
      "text/html": [
       "<div>\n",
       "<style scoped>\n",
       "    .dataframe tbody tr th:only-of-type {\n",
       "        vertical-align: middle;\n",
       "    }\n",
       "\n",
       "    .dataframe tbody tr th {\n",
       "        vertical-align: top;\n",
       "    }\n",
       "\n",
       "    .dataframe thead th {\n",
       "        text-align: right;\n",
       "    }\n",
       "</style>\n",
       "<table border=\"1\" class=\"dataframe\">\n",
       "  <thead>\n",
       "    <tr style=\"text-align: right;\">\n",
       "      <th></th>\n",
       "      <th>Content ID</th>\n",
       "      <th>User ID</th>\n",
       "      <th>Content Type</th>\n",
       "      <th>Category</th>\n",
       "      <th>URL</th>\n",
       "    </tr>\n",
       "  </thead>\n",
       "  <tbody>\n",
       "    <tr>\n",
       "      <th>0</th>\n",
       "      <td>97522e57-d9ab-4bd6-97bf-c24d952602d2</td>\n",
       "      <td>8d3cd87d-8a31-4935-9a4f-b319bfe05f31</td>\n",
       "      <td>photo</td>\n",
       "      <td>Studying</td>\n",
       "      <td>https://socialbuzz.cdn.com/content/storage/975...</td>\n",
       "    </tr>\n",
       "    <tr>\n",
       "      <th>1</th>\n",
       "      <td>9f737e0a-3cdd-4d29-9d24-753f4e3be810</td>\n",
       "      <td>beb1f34e-7870-46d6-9fc7-2e12eb83ce43</td>\n",
       "      <td>photo</td>\n",
       "      <td>healthy eating</td>\n",
       "      <td>https://socialbuzz.cdn.com/content/storage/9f7...</td>\n",
       "    </tr>\n",
       "    <tr>\n",
       "      <th>2</th>\n",
       "      <td>230c4e4d-70c3-461d-b42c-ec09396efb3f</td>\n",
       "      <td>a5c65404-5894-4b87-82f2-d787cbee86b4</td>\n",
       "      <td>photo</td>\n",
       "      <td>healthy eating</td>\n",
       "      <td>https://socialbuzz.cdn.com/content/storage/230...</td>\n",
       "    </tr>\n",
       "    <tr>\n",
       "      <th>3</th>\n",
       "      <td>356fff80-da4d-4785-9f43-bc1261031dc6</td>\n",
       "      <td>9fb4ce88-fac1-406c-8544-1a899cee7aaf</td>\n",
       "      <td>photo</td>\n",
       "      <td>technology</td>\n",
       "      <td>https://socialbuzz.cdn.com/content/storage/356...</td>\n",
       "    </tr>\n",
       "    <tr>\n",
       "      <th>4</th>\n",
       "      <td>01ab84dd-6364-4236-abbb-3f237db77180</td>\n",
       "      <td>e206e31b-5f85-4964-b6ea-d7ee5324def1</td>\n",
       "      <td>video</td>\n",
       "      <td>food</td>\n",
       "      <td>https://socialbuzz.cdn.com/content/storage/01a...</td>\n",
       "    </tr>\n",
       "  </tbody>\n",
       "</table>\n",
       "</div>"
      ],
      "text/plain": [
       "                             Content ID                               User ID  \\\n",
       "0  97522e57-d9ab-4bd6-97bf-c24d952602d2  8d3cd87d-8a31-4935-9a4f-b319bfe05f31   \n",
       "1  9f737e0a-3cdd-4d29-9d24-753f4e3be810  beb1f34e-7870-46d6-9fc7-2e12eb83ce43   \n",
       "2  230c4e4d-70c3-461d-b42c-ec09396efb3f  a5c65404-5894-4b87-82f2-d787cbee86b4   \n",
       "3  356fff80-da4d-4785-9f43-bc1261031dc6  9fb4ce88-fac1-406c-8544-1a899cee7aaf   \n",
       "4  01ab84dd-6364-4236-abbb-3f237db77180  e206e31b-5f85-4964-b6ea-d7ee5324def1   \n",
       "\n",
       "  Content Type        Category  \\\n",
       "0        photo        Studying   \n",
       "1        photo  healthy eating   \n",
       "2        photo  healthy eating   \n",
       "3        photo      technology   \n",
       "4        video            food   \n",
       "\n",
       "                                                 URL  \n",
       "0  https://socialbuzz.cdn.com/content/storage/975...  \n",
       "1  https://socialbuzz.cdn.com/content/storage/9f7...  \n",
       "2  https://socialbuzz.cdn.com/content/storage/230...  \n",
       "3  https://socialbuzz.cdn.com/content/storage/356...  \n",
       "4  https://socialbuzz.cdn.com/content/storage/01a...  "
      ]
     },
     "execution_count": 5,
     "metadata": {},
     "output_type": "execute_result"
    }
   ],
   "source": [
    "content.rename(columns={'Type':'Content Type'}, inplace=True)\n",
    "content.head()"
   ]
  },
  {
   "cell_type": "code",
   "execution_count": 6,
   "id": "bb339091",
   "metadata": {},
   "outputs": [
    {
     "data": {
      "text/html": [
       "<div>\n",
       "<style scoped>\n",
       "    .dataframe tbody tr th:only-of-type {\n",
       "        vertical-align: middle;\n",
       "    }\n",
       "\n",
       "    .dataframe tbody tr th {\n",
       "        vertical-align: top;\n",
       "    }\n",
       "\n",
       "    .dataframe thead th {\n",
       "        text-align: right;\n",
       "    }\n",
       "</style>\n",
       "<table border=\"1\" class=\"dataframe\">\n",
       "  <thead>\n",
       "    <tr style=\"text-align: right;\">\n",
       "      <th></th>\n",
       "      <th>Content ID</th>\n",
       "      <th>User ID</th>\n",
       "      <th>Type</th>\n",
       "      <th>Datetime</th>\n",
       "    </tr>\n",
       "  </thead>\n",
       "  <tbody>\n",
       "    <tr>\n",
       "      <th>0</th>\n",
       "      <td>97522e57-d9ab-4bd6-97bf-c24d952602d2</td>\n",
       "      <td>NaN</td>\n",
       "      <td>NaN</td>\n",
       "      <td>2021-04-22 15:17:15</td>\n",
       "    </tr>\n",
       "    <tr>\n",
       "      <th>1</th>\n",
       "      <td>97522e57-d9ab-4bd6-97bf-c24d952602d2</td>\n",
       "      <td>5d454588-283d-459d-915d-c48a2cb4c27f</td>\n",
       "      <td>disgust</td>\n",
       "      <td>2020-11-07 09:43:50</td>\n",
       "    </tr>\n",
       "    <tr>\n",
       "      <th>2</th>\n",
       "      <td>97522e57-d9ab-4bd6-97bf-c24d952602d2</td>\n",
       "      <td>92b87fa5-f271-43e0-af66-84fac21052e6</td>\n",
       "      <td>dislike</td>\n",
       "      <td>2021-06-17 12:22:51</td>\n",
       "    </tr>\n",
       "    <tr>\n",
       "      <th>3</th>\n",
       "      <td>97522e57-d9ab-4bd6-97bf-c24d952602d2</td>\n",
       "      <td>163daa38-8b77-48c9-9af6-37a6c1447ac2</td>\n",
       "      <td>scared</td>\n",
       "      <td>2021-04-18 05:13:58</td>\n",
       "    </tr>\n",
       "    <tr>\n",
       "      <th>4</th>\n",
       "      <td>97522e57-d9ab-4bd6-97bf-c24d952602d2</td>\n",
       "      <td>34e8add9-0206-47fd-a501-037b994650a2</td>\n",
       "      <td>disgust</td>\n",
       "      <td>2021-01-06 19:13:01</td>\n",
       "    </tr>\n",
       "  </tbody>\n",
       "</table>\n",
       "</div>"
      ],
      "text/plain": [
       "                             Content ID                               User ID  \\\n",
       "0  97522e57-d9ab-4bd6-97bf-c24d952602d2                                   NaN   \n",
       "1  97522e57-d9ab-4bd6-97bf-c24d952602d2  5d454588-283d-459d-915d-c48a2cb4c27f   \n",
       "2  97522e57-d9ab-4bd6-97bf-c24d952602d2  92b87fa5-f271-43e0-af66-84fac21052e6   \n",
       "3  97522e57-d9ab-4bd6-97bf-c24d952602d2  163daa38-8b77-48c9-9af6-37a6c1447ac2   \n",
       "4  97522e57-d9ab-4bd6-97bf-c24d952602d2  34e8add9-0206-47fd-a501-037b994650a2   \n",
       "\n",
       "      Type             Datetime  \n",
       "0      NaN  2021-04-22 15:17:15  \n",
       "1  disgust  2020-11-07 09:43:50  \n",
       "2  dislike  2021-06-17 12:22:51  \n",
       "3   scared  2021-04-18 05:13:58  \n",
       "4  disgust  2021-01-06 19:13:01  "
      ]
     },
     "execution_count": 6,
     "metadata": {},
     "output_type": "execute_result"
    }
   ],
   "source": [
    "reaction.head()"
   ]
  },
  {
   "cell_type": "code",
   "execution_count": 7,
   "id": "b5135cf8",
   "metadata": {},
   "outputs": [
    {
     "data": {
      "text/html": [
       "<div>\n",
       "<style scoped>\n",
       "    .dataframe tbody tr th:only-of-type {\n",
       "        vertical-align: middle;\n",
       "    }\n",
       "\n",
       "    .dataframe tbody tr th {\n",
       "        vertical-align: top;\n",
       "    }\n",
       "\n",
       "    .dataframe thead th {\n",
       "        text-align: right;\n",
       "    }\n",
       "</style>\n",
       "<table border=\"1\" class=\"dataframe\">\n",
       "  <thead>\n",
       "    <tr style=\"text-align: right;\">\n",
       "      <th></th>\n",
       "      <th>Content ID</th>\n",
       "      <th>User ID</th>\n",
       "      <th>Reaction Type</th>\n",
       "      <th>Datetime</th>\n",
       "    </tr>\n",
       "  </thead>\n",
       "  <tbody>\n",
       "    <tr>\n",
       "      <th>0</th>\n",
       "      <td>97522e57-d9ab-4bd6-97bf-c24d952602d2</td>\n",
       "      <td>NaN</td>\n",
       "      <td>NaN</td>\n",
       "      <td>2021-04-22 15:17:15</td>\n",
       "    </tr>\n",
       "    <tr>\n",
       "      <th>1</th>\n",
       "      <td>97522e57-d9ab-4bd6-97bf-c24d952602d2</td>\n",
       "      <td>5d454588-283d-459d-915d-c48a2cb4c27f</td>\n",
       "      <td>disgust</td>\n",
       "      <td>2020-11-07 09:43:50</td>\n",
       "    </tr>\n",
       "    <tr>\n",
       "      <th>2</th>\n",
       "      <td>97522e57-d9ab-4bd6-97bf-c24d952602d2</td>\n",
       "      <td>92b87fa5-f271-43e0-af66-84fac21052e6</td>\n",
       "      <td>dislike</td>\n",
       "      <td>2021-06-17 12:22:51</td>\n",
       "    </tr>\n",
       "    <tr>\n",
       "      <th>3</th>\n",
       "      <td>97522e57-d9ab-4bd6-97bf-c24d952602d2</td>\n",
       "      <td>163daa38-8b77-48c9-9af6-37a6c1447ac2</td>\n",
       "      <td>scared</td>\n",
       "      <td>2021-04-18 05:13:58</td>\n",
       "    </tr>\n",
       "    <tr>\n",
       "      <th>4</th>\n",
       "      <td>97522e57-d9ab-4bd6-97bf-c24d952602d2</td>\n",
       "      <td>34e8add9-0206-47fd-a501-037b994650a2</td>\n",
       "      <td>disgust</td>\n",
       "      <td>2021-01-06 19:13:01</td>\n",
       "    </tr>\n",
       "  </tbody>\n",
       "</table>\n",
       "</div>"
      ],
      "text/plain": [
       "                             Content ID                               User ID  \\\n",
       "0  97522e57-d9ab-4bd6-97bf-c24d952602d2                                   NaN   \n",
       "1  97522e57-d9ab-4bd6-97bf-c24d952602d2  5d454588-283d-459d-915d-c48a2cb4c27f   \n",
       "2  97522e57-d9ab-4bd6-97bf-c24d952602d2  92b87fa5-f271-43e0-af66-84fac21052e6   \n",
       "3  97522e57-d9ab-4bd6-97bf-c24d952602d2  163daa38-8b77-48c9-9af6-37a6c1447ac2   \n",
       "4  97522e57-d9ab-4bd6-97bf-c24d952602d2  34e8add9-0206-47fd-a501-037b994650a2   \n",
       "\n",
       "  Reaction Type             Datetime  \n",
       "0           NaN  2021-04-22 15:17:15  \n",
       "1       disgust  2020-11-07 09:43:50  \n",
       "2       dislike  2021-06-17 12:22:51  \n",
       "3        scared  2021-04-18 05:13:58  \n",
       "4       disgust  2021-01-06 19:13:01  "
      ]
     },
     "execution_count": 7,
     "metadata": {},
     "output_type": "execute_result"
    }
   ],
   "source": [
    "reaction.rename(columns={'Type':'Reaction Type'}, inplace=True)\n",
    "reaction.head()"
   ]
  },
  {
   "cell_type": "code",
   "execution_count": 8,
   "id": "df9fbdf0",
   "metadata": {},
   "outputs": [
    {
     "data": {
      "text/html": [
       "<div>\n",
       "<style scoped>\n",
       "    .dataframe tbody tr th:only-of-type {\n",
       "        vertical-align: middle;\n",
       "    }\n",
       "\n",
       "    .dataframe tbody tr th {\n",
       "        vertical-align: top;\n",
       "    }\n",
       "\n",
       "    .dataframe thead th {\n",
       "        text-align: right;\n",
       "    }\n",
       "</style>\n",
       "<table border=\"1\" class=\"dataframe\">\n",
       "  <thead>\n",
       "    <tr style=\"text-align: right;\">\n",
       "      <th></th>\n",
       "      <th>Type</th>\n",
       "      <th>Sentiment</th>\n",
       "      <th>Score</th>\n",
       "    </tr>\n",
       "  </thead>\n",
       "  <tbody>\n",
       "    <tr>\n",
       "      <th>0</th>\n",
       "      <td>heart</td>\n",
       "      <td>positive</td>\n",
       "      <td>60</td>\n",
       "    </tr>\n",
       "    <tr>\n",
       "      <th>1</th>\n",
       "      <td>want</td>\n",
       "      <td>positive</td>\n",
       "      <td>70</td>\n",
       "    </tr>\n",
       "    <tr>\n",
       "      <th>2</th>\n",
       "      <td>disgust</td>\n",
       "      <td>negative</td>\n",
       "      <td>0</td>\n",
       "    </tr>\n",
       "    <tr>\n",
       "      <th>3</th>\n",
       "      <td>hate</td>\n",
       "      <td>negative</td>\n",
       "      <td>5</td>\n",
       "    </tr>\n",
       "    <tr>\n",
       "      <th>4</th>\n",
       "      <td>interested</td>\n",
       "      <td>positive</td>\n",
       "      <td>30</td>\n",
       "    </tr>\n",
       "  </tbody>\n",
       "</table>\n",
       "</div>"
      ],
      "text/plain": [
       "         Type Sentiment  Score\n",
       "0       heart  positive     60\n",
       "1        want  positive     70\n",
       "2     disgust  negative      0\n",
       "3        hate  negative      5\n",
       "4  interested  positive     30"
      ]
     },
     "execution_count": 8,
     "metadata": {},
     "output_type": "execute_result"
    }
   ],
   "source": [
    "reaction_types.head()"
   ]
  },
  {
   "cell_type": "code",
   "execution_count": 9,
   "id": "0f6df5bd",
   "metadata": {},
   "outputs": [
    {
     "data": {
      "text/html": [
       "<div>\n",
       "<style scoped>\n",
       "    .dataframe tbody tr th:only-of-type {\n",
       "        vertical-align: middle;\n",
       "    }\n",
       "\n",
       "    .dataframe tbody tr th {\n",
       "        vertical-align: top;\n",
       "    }\n",
       "\n",
       "    .dataframe thead th {\n",
       "        text-align: right;\n",
       "    }\n",
       "</style>\n",
       "<table border=\"1\" class=\"dataframe\">\n",
       "  <thead>\n",
       "    <tr style=\"text-align: right;\">\n",
       "      <th></th>\n",
       "      <th>Reaction Type</th>\n",
       "      <th>Sentiment</th>\n",
       "      <th>Score</th>\n",
       "    </tr>\n",
       "  </thead>\n",
       "  <tbody>\n",
       "    <tr>\n",
       "      <th>0</th>\n",
       "      <td>heart</td>\n",
       "      <td>positive</td>\n",
       "      <td>60</td>\n",
       "    </tr>\n",
       "    <tr>\n",
       "      <th>1</th>\n",
       "      <td>want</td>\n",
       "      <td>positive</td>\n",
       "      <td>70</td>\n",
       "    </tr>\n",
       "    <tr>\n",
       "      <th>2</th>\n",
       "      <td>disgust</td>\n",
       "      <td>negative</td>\n",
       "      <td>0</td>\n",
       "    </tr>\n",
       "    <tr>\n",
       "      <th>3</th>\n",
       "      <td>hate</td>\n",
       "      <td>negative</td>\n",
       "      <td>5</td>\n",
       "    </tr>\n",
       "    <tr>\n",
       "      <th>4</th>\n",
       "      <td>interested</td>\n",
       "      <td>positive</td>\n",
       "      <td>30</td>\n",
       "    </tr>\n",
       "  </tbody>\n",
       "</table>\n",
       "</div>"
      ],
      "text/plain": [
       "  Reaction Type Sentiment  Score\n",
       "0         heart  positive     60\n",
       "1          want  positive     70\n",
       "2       disgust  negative      0\n",
       "3          hate  negative      5\n",
       "4    interested  positive     30"
      ]
     },
     "execution_count": 9,
     "metadata": {},
     "output_type": "execute_result"
    }
   ],
   "source": [
    "reaction_types.rename(columns={'Type':'Reaction Type'}, inplace=True)\n",
    "reaction_types.head()"
   ]
  },
  {
   "cell_type": "code",
   "execution_count": 10,
   "id": "1d4c5521",
   "metadata": {},
   "outputs": [],
   "source": [
    "df = reaction.merge(content, on='Content ID', how='inner').merge(reaction_types, on='Reaction Type', how='inner')"
   ]
  },
  {
   "cell_type": "code",
   "execution_count": 11,
   "id": "8e936056",
   "metadata": {},
   "outputs": [
    {
     "data": {
      "text/html": [
       "<div>\n",
       "<style scoped>\n",
       "    .dataframe tbody tr th:only-of-type {\n",
       "        vertical-align: middle;\n",
       "    }\n",
       "\n",
       "    .dataframe tbody tr th {\n",
       "        vertical-align: top;\n",
       "    }\n",
       "\n",
       "    .dataframe thead th {\n",
       "        text-align: right;\n",
       "    }\n",
       "</style>\n",
       "<table border=\"1\" class=\"dataframe\">\n",
       "  <thead>\n",
       "    <tr style=\"text-align: right;\">\n",
       "      <th></th>\n",
       "      <th>Content ID</th>\n",
       "      <th>User ID_x</th>\n",
       "      <th>Reaction Type</th>\n",
       "      <th>Datetime</th>\n",
       "      <th>User ID_y</th>\n",
       "      <th>Content Type</th>\n",
       "      <th>Category</th>\n",
       "      <th>URL</th>\n",
       "      <th>Sentiment</th>\n",
       "      <th>Score</th>\n",
       "    </tr>\n",
       "  </thead>\n",
       "  <tbody>\n",
       "    <tr>\n",
       "      <th>0</th>\n",
       "      <td>97522e57-d9ab-4bd6-97bf-c24d952602d2</td>\n",
       "      <td>5d454588-283d-459d-915d-c48a2cb4c27f</td>\n",
       "      <td>disgust</td>\n",
       "      <td>2020-11-07 09:43:50</td>\n",
       "      <td>8d3cd87d-8a31-4935-9a4f-b319bfe05f31</td>\n",
       "      <td>photo</td>\n",
       "      <td>Studying</td>\n",
       "      <td>https://socialbuzz.cdn.com/content/storage/975...</td>\n",
       "      <td>negative</td>\n",
       "      <td>0</td>\n",
       "    </tr>\n",
       "    <tr>\n",
       "      <th>1</th>\n",
       "      <td>97522e57-d9ab-4bd6-97bf-c24d952602d2</td>\n",
       "      <td>34e8add9-0206-47fd-a501-037b994650a2</td>\n",
       "      <td>disgust</td>\n",
       "      <td>2021-01-06 19:13:01</td>\n",
       "      <td>8d3cd87d-8a31-4935-9a4f-b319bfe05f31</td>\n",
       "      <td>photo</td>\n",
       "      <td>Studying</td>\n",
       "      <td>https://socialbuzz.cdn.com/content/storage/975...</td>\n",
       "      <td>negative</td>\n",
       "      <td>0</td>\n",
       "    </tr>\n",
       "    <tr>\n",
       "      <th>2</th>\n",
       "      <td>97522e57-d9ab-4bd6-97bf-c24d952602d2</td>\n",
       "      <td>13c06e7e-833d-47eb-a790-5e09ccfd8d2c</td>\n",
       "      <td>disgust</td>\n",
       "      <td>2021-04-09 02:46:20</td>\n",
       "      <td>8d3cd87d-8a31-4935-9a4f-b319bfe05f31</td>\n",
       "      <td>photo</td>\n",
       "      <td>Studying</td>\n",
       "      <td>https://socialbuzz.cdn.com/content/storage/975...</td>\n",
       "      <td>negative</td>\n",
       "      <td>0</td>\n",
       "    </tr>\n",
       "    <tr>\n",
       "      <th>3</th>\n",
       "      <td>9f737e0a-3cdd-4d29-9d24-753f4e3be810</td>\n",
       "      <td>8b49caad-bcc5-43de-bf40-34a66ff8805c</td>\n",
       "      <td>disgust</td>\n",
       "      <td>2021-03-28 21:15:26</td>\n",
       "      <td>beb1f34e-7870-46d6-9fc7-2e12eb83ce43</td>\n",
       "      <td>photo</td>\n",
       "      <td>healthy eating</td>\n",
       "      <td>https://socialbuzz.cdn.com/content/storage/9f7...</td>\n",
       "      <td>negative</td>\n",
       "      <td>0</td>\n",
       "    </tr>\n",
       "    <tr>\n",
       "      <th>4</th>\n",
       "      <td>230c4e4d-70c3-461d-b42c-ec09396efb3f</td>\n",
       "      <td>ef147ea5-9696-44d5-b6c2-a43f62fd8ce2</td>\n",
       "      <td>disgust</td>\n",
       "      <td>2020-08-04 05:40:33</td>\n",
       "      <td>a5c65404-5894-4b87-82f2-d787cbee86b4</td>\n",
       "      <td>photo</td>\n",
       "      <td>healthy eating</td>\n",
       "      <td>https://socialbuzz.cdn.com/content/storage/230...</td>\n",
       "      <td>negative</td>\n",
       "      <td>0</td>\n",
       "    </tr>\n",
       "  </tbody>\n",
       "</table>\n",
       "</div>"
      ],
      "text/plain": [
       "                             Content ID                             User ID_x  \\\n",
       "0  97522e57-d9ab-4bd6-97bf-c24d952602d2  5d454588-283d-459d-915d-c48a2cb4c27f   \n",
       "1  97522e57-d9ab-4bd6-97bf-c24d952602d2  34e8add9-0206-47fd-a501-037b994650a2   \n",
       "2  97522e57-d9ab-4bd6-97bf-c24d952602d2  13c06e7e-833d-47eb-a790-5e09ccfd8d2c   \n",
       "3  9f737e0a-3cdd-4d29-9d24-753f4e3be810  8b49caad-bcc5-43de-bf40-34a66ff8805c   \n",
       "4  230c4e4d-70c3-461d-b42c-ec09396efb3f  ef147ea5-9696-44d5-b6c2-a43f62fd8ce2   \n",
       "\n",
       "  Reaction Type             Datetime                             User ID_y  \\\n",
       "0       disgust  2020-11-07 09:43:50  8d3cd87d-8a31-4935-9a4f-b319bfe05f31   \n",
       "1       disgust  2021-01-06 19:13:01  8d3cd87d-8a31-4935-9a4f-b319bfe05f31   \n",
       "2       disgust  2021-04-09 02:46:20  8d3cd87d-8a31-4935-9a4f-b319bfe05f31   \n",
       "3       disgust  2021-03-28 21:15:26  beb1f34e-7870-46d6-9fc7-2e12eb83ce43   \n",
       "4       disgust  2020-08-04 05:40:33  a5c65404-5894-4b87-82f2-d787cbee86b4   \n",
       "\n",
       "  Content Type        Category  \\\n",
       "0        photo        Studying   \n",
       "1        photo        Studying   \n",
       "2        photo        Studying   \n",
       "3        photo  healthy eating   \n",
       "4        photo  healthy eating   \n",
       "\n",
       "                                                 URL Sentiment  Score  \n",
       "0  https://socialbuzz.cdn.com/content/storage/975...  negative      0  \n",
       "1  https://socialbuzz.cdn.com/content/storage/975...  negative      0  \n",
       "2  https://socialbuzz.cdn.com/content/storage/975...  negative      0  \n",
       "3  https://socialbuzz.cdn.com/content/storage/9f7...  negative      0  \n",
       "4  https://socialbuzz.cdn.com/content/storage/230...  negative      0  "
      ]
     },
     "execution_count": 11,
     "metadata": {},
     "output_type": "execute_result"
    }
   ],
   "source": [
    "df.head()"
   ]
  },
  {
   "cell_type": "code",
   "execution_count": null,
   "id": "07f59c20",
   "metadata": {},
   "outputs": [],
   "source": []
  },
  {
   "cell_type": "code",
   "execution_count": 12,
   "id": "c65fb599",
   "metadata": {},
   "outputs": [
    {
     "name": "stdout",
     "output_type": "stream",
     "text": [
      "<class 'pandas.core.frame.DataFrame'>\n",
      "Int64Index: 24573 entries, 0 to 24572\n",
      "Data columns (total 10 columns):\n",
      " #   Column         Non-Null Count  Dtype \n",
      "---  ------         --------------  ----- \n",
      " 0   Content ID     24573 non-null  object\n",
      " 1   User ID_x      22534 non-null  object\n",
      " 2   Reaction Type  24573 non-null  object\n",
      " 3   Datetime       24573 non-null  object\n",
      " 4   User ID_y      24573 non-null  object\n",
      " 5   Content Type   24573 non-null  object\n",
      " 6   Category       24573 non-null  object\n",
      " 7   URL            20056 non-null  object\n",
      " 8   Sentiment      24573 non-null  object\n",
      " 9   Score          24573 non-null  int64 \n",
      "dtypes: int64(1), object(9)\n",
      "memory usage: 2.1+ MB\n"
     ]
    }
   ],
   "source": [
    "df.info()"
   ]
  },
  {
   "cell_type": "code",
   "execution_count": 13,
   "id": "308b330b",
   "metadata": {},
   "outputs": [],
   "source": [
    "df['Datetime'] = pd.to_datetime(df['Datetime'])\n",
    "df[['Reaction Type', 'Content Type', 'Category', 'Sentiment']] = df[['Reaction Type', 'Content Type', 'Category', 'Sentiment']].astype('category')"
   ]
  },
  {
   "cell_type": "code",
   "execution_count": 14,
   "id": "38ed56a3",
   "metadata": {},
   "outputs": [
    {
     "data": {
      "text/plain": [
       "['disgust', 'dislike', 'scared', 'interested', 'peeking', ..., 'worried', 'like', 'heart', 'want', 'adore']\n",
       "Length: 16\n",
       "Categories (16, object): ['adore', 'cherish', 'disgust', 'dislike', ..., 'scared', 'super love', 'want', 'worried']"
      ]
     },
     "execution_count": 14,
     "metadata": {},
     "output_type": "execute_result"
    }
   ],
   "source": [
    "df['Reaction Type'].unique()"
   ]
  },
  {
   "cell_type": "code",
   "execution_count": 15,
   "id": "613cdd5f",
   "metadata": {},
   "outputs": [
    {
     "data": {
      "text/plain": [
       "['Studying', 'healthy eating', 'dogs', 'public speaking', 'science', ..., '\"science\"', '\"studying\"', '\"food\"', 'Healthy Eating', 'Technology']\n",
       "Length: 40\n",
       "Categories (40, object): ['\"animals\"', '\"cooking\"', '\"culture\"', '\"dogs\"', ..., 'technology', 'tennis', 'travel', 'veganism']"
      ]
     },
     "execution_count": 15,
     "metadata": {},
     "output_type": "execute_result"
    }
   ],
   "source": [
    "df['Category'].unique()"
   ]
  },
  {
   "cell_type": "code",
   "execution_count": 16,
   "id": "69e0f681",
   "metadata": {},
   "outputs": [],
   "source": [
    "cleaned_data = df[['Content ID', 'Reaction Type', 'Content Type', 'Category', 'Sentiment', 'Score']]"
   ]
  },
  {
   "cell_type": "code",
   "execution_count": 17,
   "id": "c96a114e",
   "metadata": {},
   "outputs": [
    {
     "name": "stdout",
     "output_type": "stream",
     "text": [
      "<class 'pandas.core.frame.DataFrame'>\n",
      "Int64Index: 24573 entries, 0 to 24572\n",
      "Data columns (total 6 columns):\n",
      " #   Column         Non-Null Count  Dtype   \n",
      "---  ------         --------------  -----   \n",
      " 0   Content ID     24573 non-null  object  \n",
      " 1   Reaction Type  24573 non-null  category\n",
      " 2   Content Type   24573 non-null  category\n",
      " 3   Category       24573 non-null  category\n",
      " 4   Sentiment      24573 non-null  category\n",
      " 5   Score          24573 non-null  int64   \n",
      "dtypes: category(4), int64(1), object(1)\n",
      "memory usage: 674.3+ KB\n"
     ]
    }
   ],
   "source": [
    "cleaned_data.info()"
   ]
  },
  {
   "cell_type": "code",
   "execution_count": 24,
   "id": "7d3cb156",
   "metadata": {},
   "outputs": [
    {
     "data": {
      "text/plain": [
       "['disgust', 'dislike', 'scared', 'interested', 'peeking', ..., 'worried', 'like', 'heart', 'want', 'adore']\n",
       "Length: 16\n",
       "Categories (16, object): ['adore', 'cherish', 'disgust', 'dislike', ..., 'scared', 'super love', 'want', 'worried']"
      ]
     },
     "execution_count": 24,
     "metadata": {},
     "output_type": "execute_result"
    }
   ],
   "source": [
    "cleaned_data['Reaction Type'].unique()"
   ]
  },
  {
   "cell_type": "code",
   "execution_count": 42,
   "id": "a22e7829",
   "metadata": {},
   "outputs": [
    {
     "data": {
      "text/plain": [
       "array([ 0, 10, 15, 30, 35, 70,  5, 65, 20, 75, 45, 12, 50, 60, 72],\n",
       "      dtype=int64)"
      ]
     },
     "execution_count": 42,
     "metadata": {},
     "output_type": "execute_result"
    }
   ],
   "source": [
    "cleaned_data['Score'].unique()"
   ]
  },
  {
   "cell_type": "code",
   "execution_count": 20,
   "id": "2517a9e6",
   "metadata": {},
   "outputs": [
    {
     "name": "stderr",
     "output_type": "stream",
     "text": [
      "C:\\Users\\srinadh\\AppData\\Local\\Temp\\ipykernel_3956\\3996168902.py:1: SettingWithCopyWarning: \n",
      "A value is trying to be set on a copy of a slice from a DataFrame.\n",
      "Try using .loc[row_indexer,col_indexer] = value instead\n",
      "\n",
      "See the caveats in the documentation: https://pandas.pydata.org/pandas-docs/stable/user_guide/indexing.html#returning-a-view-versus-a-copy\n",
      "  cleaned_data['Category'] = cleaned_data['Category'].str.replace('\"', '')\n"
     ]
    }
   ],
   "source": [
    "cleaned_data['Category'] = cleaned_data['Category'].str.replace('\"', '')"
   ]
  },
  {
   "cell_type": "code",
   "execution_count": 21,
   "id": "70ecc5b4",
   "metadata": {},
   "outputs": [
    {
     "name": "stderr",
     "output_type": "stream",
     "text": [
      "C:\\Users\\srinadh\\AppData\\Local\\Temp\\ipykernel_3956\\564933516.py:1: SettingWithCopyWarning: \n",
      "A value is trying to be set on a copy of a slice from a DataFrame.\n",
      "Try using .loc[row_indexer,col_indexer] = value instead\n",
      "\n",
      "See the caveats in the documentation: https://pandas.pydata.org/pandas-docs/stable/user_guide/indexing.html#returning-a-view-versus-a-copy\n",
      "  cleaned_data['Category'] = cleaned_data['Category'].str.title()\n"
     ]
    }
   ],
   "source": [
    "cleaned_data['Category'] = cleaned_data['Category'].str.title()"
   ]
  },
  {
   "cell_type": "code",
   "execution_count": 22,
   "id": "61ef0363",
   "metadata": {},
   "outputs": [
    {
     "data": {
      "text/plain": [
       "array(['Studying', 'Healthy Eating', 'Dogs', 'Public Speaking', 'Science',\n",
       "       'Tennis', 'Food', 'Fitness', 'Soccer', 'Education', 'Travel',\n",
       "       'Veganism', 'Cooking', 'Technology', 'Animals', 'Culture'],\n",
       "      dtype=object)"
      ]
     },
     "execution_count": 22,
     "metadata": {},
     "output_type": "execute_result"
    }
   ],
   "source": [
    "cleaned_data['Category'].unique()"
   ]
  },
  {
   "cell_type": "code",
   "execution_count": 23,
   "id": "fa32172f",
   "metadata": {},
   "outputs": [
    {
     "data": {
      "text/plain": [
       "Category\n",
       "Animals            74965\n",
       "Science            71168\n",
       "Healthy Eating     69339\n",
       "Technology         68738\n",
       "Food               66676\n",
       "Culture            66579\n",
       "Travel             64880\n",
       "Cooking            64756\n",
       "Soccer             57783\n",
       "Education          57436\n",
       "Fitness            55323\n",
       "Studying           54269\n",
       "Dogs               52511\n",
       "Tennis             50339\n",
       "Veganism           49619\n",
       "Public Speaking    49264\n",
       "Name: Score, dtype: int64"
      ]
     },
     "execution_count": 23,
     "metadata": {},
     "output_type": "execute_result"
    }
   ],
   "source": [
    "category_scores = cleaned_data.groupby('Category')['Score'].sum().sort_values(ascending=False)\n",
    "category_scores"
   ]
  },
  {
   "cell_type": "code",
   "execution_count": 30,
   "id": "7bb94945",
   "metadata": {},
   "outputs": [
    {
     "data": {
      "text/plain": [
       "Category\n",
       "Animals           74965\n",
       "Science           71168\n",
       "Healthy Eating    69339\n",
       "Technology        68738\n",
       "Food              66676\n",
       "Name: Score, dtype: int64"
      ]
     },
     "execution_count": 30,
     "metadata": {},
     "output_type": "execute_result"
    }
   ],
   "source": [
    "top_categories = category_scores.head(5)\n",
    "top_categories"
   ]
  },
  {
   "cell_type": "code",
   "execution_count": 31,
   "id": "71c8a729",
   "metadata": {},
   "outputs": [],
   "source": [
    "with pd.ExcelWriter('task_2_answer.xlsx') as writer:\n",
    "    cleaned_data.to_excel(writer, sheet_name='Cleaned Data')\n",
    "    category_scores.to_excel(writer, sheet_name='Category Scores')\n",
    "    top_categories.to_excel(writer, sheet_name='Top Categories')"
   ]
  },
  {
   "cell_type": "code",
   "execution_count": 41,
   "id": "559987c7",
   "metadata": {},
   "outputs": [
    {
     "data": {
      "text/plain": [
       "Text(0, 0.5, 'Total Score')"
      ]
     },
     "execution_count": 41,
     "metadata": {},
     "output_type": "execute_result"
    },
    {
     "data": {
      "image/png": "[encoded data removed]",
      "text/plain": [
       "<Figure size 640x480 with 1 Axes>"
      ]
     },
     "metadata": {},
     "output_type": "display_data"
    }
   ],
   "source": [
    "top_categories.plot(kind='bar')\n",
    "plt.title('Top 5 Categories')\n",
    "plt.ylabel('Total Score')"
   ]
  },
  {
   "cell_type": "code",
   "execution_count": null,
   "id": "011a0859",
   "metadata": {},
   "outputs": [],
   "source": []
  }
 ],
 "metadata": {
  "kernelspec": {
   "display_name": "Python 3 (ipykernel)",
   "language": "python",
   "name": "python3"
  },
  "language_info": {
   "codemirror_mode": {
    "name": "ipython",
    "version": 3
   },
   "file_extension": ".py",
   "mimetype": "text/x-python",
   "name": "python",
   "nbconvert_exporter": "python",
   "pygments_lexer": "ipython3",
   "version": "3.9.13"
  }
 },
 "nbformat": 4,
 "nbformat_minor": 5
}
